{
 "cells": [
  {
   "cell_type": "markdown",
   "metadata": {},
   "source": [
    "# **Government Final Project**"
   ]
  },
  {
   "cell_type": "markdown",
   "metadata": {},
   "source": [
    "**UNEMPLOYMENT**\n",
    "- [16.9](https://www.forbes.com/sites/jonathanponciano/2021/05/13/jobless-claims-hit-new-pandemic-low-but-169-million-americans-are-still-receiving-unemployment-benefits/?sh=32c45d467829) million Americans are still receiving unemployment benefits"
   ]
  },
  {
   "cell_type": "code",
   "execution_count": 1,
   "metadata": {},
   "outputs": [
    {
     "output_type": "stream",
     "name": "stdout",
     "text": [
      "ERROR: Could not locate a key. Has the daily query limit been reached?\nERROR: Could not find attribute, proceeding to display previous table\n+-------------+------+--------+---------+-----------+\n\n|  series id  | year | period |  value  | footnotes |\n\n+-------------+------+--------+---------+-----------+\n\n| SUUR0000SA0 | 2021 |  M04   | 150.070 |  Initial  |\n\n| SUUR0000SA0 | 2021 |  M03   | 148.839 |  Interim  |\n\n| SUUR0000SA0 | 2021 |  M02   | 147.798 |  Interim  |\n\n| SUUR0000SA0 | 2021 |  M01   | 146.975 |  Interim  |\n\n| SUUR0000SA0 | 2020 |  M12   | 146.330 |  Interim  |\n\n| SUUR0000SA0 | 2020 |  M11   | 146.205 |  Interim  |\n\n| SUUR0000SA0 | 2020 |  M10   | 146.314 |  Interim  |\n\n| SUUR0000SA0 | 2020 |  M09   | 146.270 |  Interim  |\n\n| SUUR0000SA0 | 2020 |  M08   | 146.050 |  Interim  |\n\n| SUUR0000SA0 | 2020 |  M07   | 145.602 |  Interim  |\n\n| SUUR0000SA0 | 2020 |  M06   | 144.847 |           |\n\n| SUUR0000SA0 | 2020 |  M05   | 144.018 |           |\n\n| SUUR0000SA0 | 2020 |  M04   | 144.142 |           |\n\n| SUUR0000SA0 | 2020 |  M03   | 144.913 |           |\n\n| SUUR0000SA0 | 2020 |  M02   | 145.193 |           |\n\n| SUUR0000SA0 | 2020 |  M01   | 144.813 |           |\n\n+-------------+------+--------+---------+-----------+\n"
     ]
    }
   ],
   "source": [
    "from main import Unemployment\n",
    "data = Unemployment(2019, 2021)\n",
    "data.load()\n",
    "data.display_table()"
   ]
  },
  {
   "cell_type": "markdown",
   "metadata": {},
   "source": [
    "**PREFACE**\n",
    "\n",
    "Historically, we have faced issues such as the Great Depression in the 30’s due to installment plans in the roaring 20’s. We see people entering and applying for jobs, but these people aren’t always doing anything in these jobs or aren’t going past the acceptance phase. \n",
    "\n",
    "In the past 3 years we have seen almost a double in unemployment from pre-2019 and it is severely affecting the economy. The other thing to consider is the amount of people getting vaccinated not only for a single shot, but for the second shot. \n",
    "\n",
    "The rate of people actually getting the second shot is much lower than the first, and the question becomes “how can we change the mindset of said people to get these shots”? Reopening the economy and the country is essential right now because we will soon see the effects of the pandemic on not only the market, but also our daily lives. \n"
   ]
  },
  {
   "cell_type": "code",
   "execution_count": null,
   "metadata": {},
   "outputs": [],
   "source": [
    "from IPython.display import Image\n",
    "Image(filename = \"../assets/cpi.png\")"
   ]
  },
  {
   "cell_type": "markdown",
   "metadata": {},
   "source": [
    "**INFLATION**\n",
    "- As of recently, inflation has rose from around [4.16%](https://www.in2013dollars.com/inflation-rate-in-2021) from the previous year\n",
    "- The CPI (Consumer Price Index) hasn’t risen this high since 2008 (The Great Recession)\n"
   ]
  },
  {
   "cell_type": "code",
   "execution_count": null,
   "metadata": {},
   "outputs": [],
   "source": [
    "from IPython.display import Image\n",
    "Image(filename = \"../assets/bonds.jpg\")"
   ]
  },
  {
   "cell_type": "code",
   "execution_count": null,
   "metadata": {},
   "outputs": [],
   "source": [
    "from IPython.display import Image\n",
    "Image(filename = \"../assets/commodities.png\")"
   ]
  }
 ],
 "metadata": {
  "kernelspec": {
   "display_name": "Python 3",
   "language": "python",
   "name": "python3"
  },
  "language_info": {
   "codemirror_mode": {
    "name": "ipython",
    "version": 3
   },
   "file_extension": ".py",
   "mimetype": "text/x-python",
   "name": "python",
   "nbconvert_exporter": "python",
   "pygments_lexer": "ipython3",
   "version": "3.8.5"
  },
  "metadata": {
   "interpreter": {
    "hash": "916dbcbb3f70747c44a77c7bcd40155683ae19c65e1c03b4aa3499c5328201f1"
   }
  }
 },
 "nbformat": 4,
 "nbformat_minor": 2
}