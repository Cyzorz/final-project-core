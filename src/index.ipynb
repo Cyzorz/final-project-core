{
 "cells": [
  {
   "source": [
    " **Government Final Project**"
   ],
   "cell_type": "markdown",
   "metadata": {}
  },
  {
   "source": [
    "- [16.9](https://www.forbes.com/sites/jonathanponciano/2021/05/13/jobless-claims-hit-new-pandemic-low-but-169-million-americans-are-still-receiving-unemployment-benefits/?sh=32c45d467829) million Americans are still receiving unemployment benefits"
   ],
   "cell_type": "markdown",
   "metadata": {}
  },
  {
   "cell_type": "code",
   "execution_count": null,
   "metadata": {},
   "outputs": [],
   "source": [
    "from main import Unemployment\n",
    "data = Unemployment(2019, 2021)\n",
    "data.load()\n",
    "data.create_table()\n",
    "\n",
    "results = open('SUUR0000SA0.txt', 'r')\n",
    "for result in results:\n",
    "    print(result)\n",
    "results.close()"
   ]
  },
  {
   "source": [
    "- As of recently, inflation has rose from around [4.16%](https://www.in2013dollars.com/inflation-rate-in-2021) from the previous year\n",
    "- The CPI (Consumer Price Index) hasn’t risen this high since 2008 (The Great Recession)\n"
   ],
   "cell_type": "markdown",
   "metadata": {}
  },
  {
   "cell_type": "code",
   "execution_count": null,
   "metadata": {},
   "outputs": [],
   "source": [
    "from IPython.display import Image\n",
    "Image(filename = \"../assets/cpi.png\")"
   ]
  },
  {
   "cell_type": "code",
   "execution_count": null,
   "metadata": {},
   "outputs": [],
   "source": [
    "from IPython.display import Image\n",
    "Image(filename = \"../assets/bonds.jpg\")"
   ]
  },
  {
   "cell_type": "code",
   "execution_count": null,
   "metadata": {},
   "outputs": [],
   "source": [
    "from IPython.display import Image\n",
    "Image(filename = \"../assets/commodities.png\")"
   ]
  }
 ],
 "metadata": {
  "kernelspec": {
   "display_name": "Python 3",
   "language": "python",
   "name": "python3"
  },
  "language_info": {
   "codemirror_mode": {
    "name": "ipython",
    "version": 3
   },
   "file_extension": ".py",
   "mimetype": "text/x-python",
   "name": "python",
   "nbconvert_exporter": "python",
   "pygments_lexer": "ipython3",
   "version": "3.8.5"
  },
  "metadata": {
   "interpreter": {
    "hash": "916dbcbb3f70747c44a77c7bcd40155683ae19c65e1c03b4aa3499c5328201f1"
   }
  }
 },
 "nbformat": 4,
 "nbformat_minor": 2
}