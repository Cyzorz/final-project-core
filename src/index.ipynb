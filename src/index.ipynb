{
 "cells": [
  {
   "cell_type": "markdown",
   "metadata": {},
   "source": [
    "# **Government Final Project**"
   ]
  },
  {
   "cell_type": "markdown",
   "metadata": {},
   "source": [
    "**UNEMPLOYMENT**\n",
    "- [16.9](https://www.forbes.com/sites/jonathanponciano/2021/05/13/jobless-claims-hit-new-pandemic-low-but-169-million-americans-are-still-receiving-unemployment-benefits/?sh=32c45d467829) million Americans are still receiving unemployment benefits"
   ]
  },
  {
   "cell_type": "code",
   "execution_count": null,
   "metadata": {},
   "outputs": [],
   "source": [
    "from unemployment import Unemployment\n",
    "data = Unemployment(2019, 2021)\n",
    "data.load()\n",
    "data.display_table()"
   ]
  },
  {
   "cell_type": "markdown",
   "metadata": {},
   "source": [
    "**PREFACE**\n",
    "\n",
    "Historically, we have faced issues such as the Great Depression in the 30’s due to installment plans in the roaring 20’s. We see people entering and applying for jobs, but these people aren’t always doing anything in these jobs or aren’t going past the acceptance phase. \n",
    "\n",
    "In the past 3 years we have seen almost a double in unemployment from pre-2019 and it is severely affecting the economy. The other thing to consider is the amount of people getting vaccinated not only for a single shot, but for the second shot. \n",
    "\n",
    "The rate of people actually getting the second shot is much lower than the first, and the question becomes “how can we change the mindset of said people to get these shots”? Reopening the economy and the country is essential right now because we will soon see the effects of the pandemic on not only the market, but also our daily lives. \n"
   ]
  },
  {
   "cell_type": "code",
   "execution_count": null,
   "metadata": {},
   "outputs": [],
   "source": [
    "from render import Render\n",
    "Render.load(\"cpi.png\", \"image\")"
   ]
  },
  {
   "cell_type": "markdown",
   "metadata": {},
   "source": [
    "**INFLATION**\n",
    "- As of recently, inflation has rose from around [4.16%](https://www.in2013dollars.com/inflation-rate-in-2021) from the previous year\n",
    "- The CPI (Consumer Price Index) hasn’t risen this high since 2008 (The Great Recession)\n"
   ]
  },
  {
   "cell_type": "code",
   "execution_count": null,
   "metadata": {},
   "outputs": [],
   "source": [
    "from plot import Plot\n",
    "import pandas as pd\n",
    "graph = Plot(\"Average Interest Rate Amount by Date\", \"Date\", \"Average Interest Rate\", \"interest.csv\")\n",
    "interest = pd.read_csv(graph.get_file())\n",
    "x = interest.Record_Date\n",
    "y = interest.Average_Interest_Rate_Amount\n",
    "graph.plot(x, y, 10, 3.5)\n",
    "graph.render_plot()"
   ]
  },
  {
   "cell_type": "code",
   "execution_count": null,
   "metadata": {},
   "outputs": [],
   "source": [
    "from render import Render\n",
    "Render.load(\"bonds.jpg\", \"image\")"
   ]
  },
  {
   "cell_type": "code",
   "execution_count": null,
   "metadata": {},
   "outputs": [],
   "source": [
    "from render import Render\n",
    "Render.load(\"commodities.png\", \"image\")"
   ]
  },
  {
   "cell_type": "code",
   "execution_count": null,
   "metadata": {},
   "outputs": [],
   "source": []
  }
 ],
 "metadata": {
  "kernelspec": {
   "display_name": "Python 3",
   "language": "python",
   "name": "python3"
  },
  "language_info": {
   "codemirror_mode": {
    "name": "ipython",
    "version": 3
   },
   "file_extension": ".py",
   "mimetype": "text/x-python",
   "name": "python",
   "nbconvert_exporter": "python",
   "pygments_lexer": "ipython3",
   "version": "3.8.5"
  },
  "metadata": {
   "interpreter": {
    "hash": "916dbcbb3f70747c44a77c7bcd40155683ae19c65e1c03b4aa3499c5328201f1"
   }
  }
 },
 "nbformat": 4,
 "nbformat_minor": 2
}